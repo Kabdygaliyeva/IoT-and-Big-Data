{
 "cells": [
  {
   "cell_type": "markdown",
   "metadata": {},
   "source": [
    "#### Team Members: Yerkezhan Kabdygaliyeva, Assel Nuraliyeva, Mukhtar Uzakov"
   ]
  },
  {
   "cell_type": "code",
   "execution_count": 1,
   "metadata": {},
   "outputs": [],
   "source": [
    "import cv2\n",
    "from gtts import gTTS\n",
    "import os\n",
    "import numpy as np\n",
    "import time"
   ]
  },
  {
   "cell_type": "code",
   "execution_count": 2,
   "metadata": {},
   "outputs": [
    {
     "data": {
      "text/plain": [
       "['cars.mp4', 'highway.mp4', 'traffic.avi', 'video1.avi', 'video2.avi']"
      ]
     },
     "execution_count": 2,
     "metadata": {},
     "output_type": "execute_result"
    }
   ],
   "source": [
    "#List of video in our folder\n",
    "os.listdir(path=\"./data\")"
   ]
  },
  {
   "cell_type": "code",
   "execution_count": 3,
   "metadata": {},
   "outputs": [],
   "source": [
    "#Trained XML classifiers describe some features of the car object that we want to detect\n",
    "cascade_src = 'cars.xml'\n",
    "car_cascade = cv2.CascadeClassifier(cascade_src)\n",
    "\n",
    "#Capture frames from a video\n",
    "video_src ='data/video1.avi' \n",
    "cap = cv2.VideoCapture(video_src)\n",
    "\n",
    "count = 0\n",
    "while True:\n",
    "    \n",
    "    #Reads frames from a video\n",
    "    ret, img = cap.read()\n",
    "    if type(img) == type(None):\n",
    "        break\n",
    "    count += 1\n",
    "    \n",
    "    #Convert to gray scale of each frames\n",
    "    gray = cv2.cvtColor(img, cv2.COLOR_BGR2GRAY)\n",
    "    \n",
    "    #Detect cars\n",
    "    cars = car_cascade.detectMultiScale(gray, 1.1, 1)\n",
    "    \n",
    "    #To draw a rectangle in each cars\n",
    "    for (x, y, w, h) in cars:\n",
    "        cv2.rectangle(img, (x, y), (x + w, y + h), (0, 0, 255), 2)\n",
    "    \n",
    "    # Display frames in a window \"video\"\n",
    "    cv2.imshow(\"video\", img)\n",
    "    \n",
    "    if cv2.waitKey(20) == 20:\n",
    "        break\n",
    "\n",
    "cv2.destroyAllWindows()\n",
    "\n",
    "#Assistant Message\n",
    "#Where the message is read is there a traffic jam on the road or not\n",
    "\n",
    "f = open(\"Output.txt\", \"w+\")\n",
    "if count < 501:\n",
    "    f.write(\"N\")\n",
    "    tts = gTTS(text='There is no traffic, continue on the same route', lang='en')\n",
    "    tts.save(\"Speak.mp3\")\n",
    "    os.system(\"Speak.mp3\")\n",
    "else:\n",
    "    f.write(\"t\")\n",
    "    tts = gTTS(text='There is traffic, choose an alternative route', lang='en')\n",
    "    tts.save(\"Speak.mp3\")\n",
    "    os.system(\"Speak.mp3\")\n",
    "\n",
    "f.close()"
   ]
  },
  {
   "cell_type": "code",
   "execution_count": 4,
   "metadata": {},
   "outputs": [],
   "source": [
    "#Capture frames from a video\n",
    "cap = cv2.VideoCapture(\"data/highway.mp4\")\n",
    "\n",
    "while (cap.isOpened()):\n",
    "    _, frame = cap.read()\n",
    "    # Using cv2.cvtColor() method\n",
    "    # Using cv2.COLOR_BGR2GRAY color space\n",
    "    # conversion code\n",
    "    gray_frame = cv2.cvtColor(frame, cv2.COLOR_BGR2GRAY)\n",
    "    #Image Smoothing using OpenCV Gaussian Blur\n",
    "    gray_frame = cv2.GaussianBlur(gray_frame, (5, 5), 0)\n",
    " \n",
    "    _, first_frame = cap.read()\n",
    "    first_gray = cv2.cvtColor(first_frame, cv2.COLOR_BGR2GRAY)\n",
    "    first_gray = cv2.GaussianBlur(first_gray, (5, 5), 0)\n",
    "    \n",
    "    #Starting with a delay of 1 second\n",
    "    time.sleep(1)\n",
    "        \n",
    "    difference = cv2.absdiff(first_gray, gray_frame)\n",
    "    _, difference = cv2.threshold(difference, 25, 255, cv2.THRESH_BINARY)\n",
    "    \n",
    "    cv2.imshow(\"Frame\", first_frame)\n",
    "    cv2.imshow(\"Difference\", difference)\n",
    "    \n",
    "    #Will display the window indefinitely until the \"ESC\" key is pressed\n",
    "    #It will display a frame for 30 ms, after which the display will automatically close.\n",
    "    #Since the OS has the minimum time between thread switches, the function will not wait exactly 30 ms, \n",
    "    #it will wait at least 30 ms, depending on what else is running on our computer at this time.\n",
    "    \n",
    "    key = cv2.waitKey(30)\n",
    "    if key == 27:\n",
    "        break\n",
    "        \n",
    "cap.release()\n",
    "#Destroys the window showing image\n",
    "cv2.destroyAllWindows()"
   ]
  }
 ],
 "metadata": {
  "kernelspec": {
   "display_name": "Python 3",
   "language": "python",
   "name": "python3"
  },
  "language_info": {
   "codemirror_mode": {
    "name": "ipython",
    "version": 3
   },
   "file_extension": ".py",
   "mimetype": "text/x-python",
   "name": "python",
   "nbconvert_exporter": "python",
   "pygments_lexer": "ipython3",
   "version": "3.7.3"
  }
 },
 "nbformat": 4,
 "nbformat_minor": 4
}
